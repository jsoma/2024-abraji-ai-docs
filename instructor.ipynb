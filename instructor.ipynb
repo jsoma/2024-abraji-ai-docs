{
 "cells": [
  {
   "cell_type": "raw",
   "id": "2e583231",
   "metadata": {
    "vscode": {
     "languageId": "raw"
    }
   },
   "source": [
    "---\n",
    "title: \"Extracting structured data with Instructor\"\n",
    "---"
   ]
  },
  {
   "cell_type": "markdown",
   "id": "96679949-c7d5-4c44-974c-47351ed34c1a",
   "metadata": {},
   "source": [
    "If you have a bunch of data in a messy format (user-input text, usually), an LLM is a great way to pull out the useful parts. [Instructor](https://python.useinstructor.com/) can help you take that content and turn it into structured data!\n",
    "\n",
    "Let's start by **installing Instructor**. We'll also install [tqdm](https://tqdm.github.io/), which allows for some nice progress bars."
   ]
  },
  {
   "cell_type": "code",
   "execution_count": 5,
   "id": "44555bbf-10e6-4211-9c52-0ac768e6a0c7",
   "metadata": {},
   "outputs": [
    {
     "name": "stdout",
     "output_type": "stream",
     "text": [
      "\n",
      "\u001b[1m[\u001b[0m\u001b[34;49mnotice\u001b[0m\u001b[1;39;49m]\u001b[0m\u001b[39;49m A new release of pip is available: \u001b[0m\u001b[31;49m23.0.1\u001b[0m\u001b[39;49m -> \u001b[0m\u001b[32;49m24.1.2\u001b[0m\n",
      "\u001b[1m[\u001b[0m\u001b[34;49mnotice\u001b[0m\u001b[1;39;49m]\u001b[0m\u001b[39;49m To update, run: \u001b[0m\u001b[32;49mpip install --upgrade pip\u001b[0m\n",
      "Note: you may need to restart the kernel to use updated packages.\n"
     ]
    }
   ],
   "source": [
    "%pip install --quiet --upgrade instructor tqdm"
   ]
  },
  {
   "cell_type": "markdown",
   "id": "1e37bd86",
   "metadata": {},
   "source": [
    "## Instructor in a single use\n",
    "\n",
    "First we'll use Instructor on a single line of code. In this case, extracting structured data from an article.\n",
    "\n",
    "Each article has a summary, a list of sources, a language and and a category. Each \"source\" has both a name and an optional title.\n",
    "\n",
    "**You'll need your own OpenAI API key** to serve as your username and password when connecting Instructor to GPT. You can get yours [here](https://platform.openai.com/account/api-keys). Feel free to email me to borrow one of my API keys, you can find me at js4571@columbia.edu"
   ]
  },
  {
   "cell_type": "code",
   "execution_count": 16,
   "id": "4fe63c4d-fac8-4128-9cb7-fb8bb21237c3",
   "metadata": {},
   "outputs": [],
   "source": [
    "import instructor\n",
    "from pydantic import BaseModel, Field\n",
    "from openai import OpenAI\n",
    "from typing import Optional, List\n",
    "from typing_extensions import Literal\n",
    "\n",
    "class Person(BaseModel):\n",
    "    name: str = Field(description=\"Person's name\")\n",
    "    title: Optional[str] = Field(description=\"Person's title, if available\")\n",
    "\n",
    "class Article(BaseModel):\n",
    "    summary: str = Field(description=\"Brief, one-sentence summary (in English)\")\n",
    "    sources: List[Person] = Field(description=\"People mentioned in the article\")\n",
    "    language_code: str = Field(description=\"Two-letter language code of original text\")\n",
    "    category: Literal[\"politics\", \"sports\", \"international\", \"other\"]\n",
    "\n",
    "# Add your own API key\n",
    "client = instructor.from_openai(OpenAI(api_key='sk-proj-XXXXXXXXXXXXXXXXXXXX'))"
   ]
  },
  {
   "cell_type": "markdown",
   "id": "c632eb7b",
   "metadata": {},
   "source": [
    "The article we'll be analyzing is below."
   ]
  },
  {
   "cell_type": "code",
   "execution_count": 17,
   "id": "ce593036",
   "metadata": {},
   "outputs": [],
   "source": [
    "article = \"\"\"\n",
    "\"Elections européennes : Emmanuel Macron dénonce « l'hypocrisie » du RN\n",
    "\n",
    "Le chef de l'Etat a déploré mercredi depuis Bruxelles que les « peurs profitent aux réponses les plus simplistes » dans la campagne pour le scrutin du 9 juin, fustigeant ceux qui dénoncent l'Union européenne tout en engrangeant les « dividendes silencieux ».\n",
    "\n",
    "Vous pouvez partager un article en cliquant sur les icônes de partage en haut à droite de celui-ci. \n",
    "La reproduction totale ou partielle d'un article, sans l'autorisation écrite et préalable du Monde, est strictement interdite. \n",
    "Pour plus d'informations, consultez nos conditions générales de vente. \n",
    "Pour toute demande d'autorisation, contactez syndication@lemonde.fr. \n",
    "En tant qu'abonné, vous pouvez offrir jusqu'à cinq articles par mois à l'un de vos proches grâce à la fonctionnalité « Offrir un article ». \n",
    "\n",
    "https://www.lemonde.fr/elections-europeennes/article/2024/04/17/elections-europeennes-emmanuel-macron-denonce-l-hypocrisie-du-rn_6228404_1168667.html\n",
    "\n",
    "Interrogé en marge de son déplacement à Bruxelles sur la campagne des élections européennes, Emmanuel Macron a déploré que les « peurs profitent aux réponses les plus simplistes », mercredi 17 avril. Il a également fustigé « l'hypocrisie » de ceux qui dénoncent l'Union européenne mais en engrangent les « dividendes silencieux ».\n",
    "\n",
    "« Je pense qu'il y a beaucoup de peurs, d'inquiétudes dans le moment que nous vivons et que ces colères profitent toujours aux réponses les plus simplistes », a déclaré le chef de l'Etat français lors de son arrivée dans la capitale belge avant la tenue d'un sommet européen, au cours d'un bref échange avec la presse aux côtés de la tête de liste de son camp aux européennes, Valérie Heyer. « Il y a aujourd'hui une espèce d'hypocrisie du débat et j'espère qu'en rentrant dans les prochaines semaines dans celui-ci, cette hypocrisie sera levée », a ajouté M. Macron, visant en creux le Rassemblement national (RN), dont la liste est conduite par Jordan Bardella.\n",
    "\n",
    "Il s'agissait de la première apparition publique du chef de l'Etat et de Mme Hayer depuis le début de la campagne, avant qu'ils n'assistent ensemble à une réunion du groupe Renew Europe.\n",
    "\n",
    "Vous pouvez partager un article en cliquant sur les icônes de partage en haut à droite de celui-ci. \n",
    "La reproduction totale ou partielle d'un article, sans l'autorisation écrite et préalable du Monde, est strictement interdite. \n",
    "Pour plus d'informations, consultez nos conditions générales de vente. \n",
    "Pour toute demande d'autorisation, contactez syndication@lemonde.fr. \n",
    "En tant qu'abonné, vous pouvez offrir jusqu'à cinq articles par mois à l'un de vos proches grâce à la fonctionnalité « Offrir un article ». \n",
    "\n",
    "https://www.lemonde.fr/elections-europeennes/article/2024/04/17/elections-europeennes-emmanuel-macron-denonce-l-hypocrisie-du-rn_6228404_1168667.html\n",
    "\n",
    "L'extrême droite ciblée par le camp présidentiel\n",
    "La candidate du camp présidentiel peine pour l'instant à imprimer sa marque dans la campagne. La liste Renaissance reste largement distancée dans les sondages par celle du Rassemblement national (RN), qui ne cesse de creuser l'écart et caracole à plus de 30 % d'intentions de vote. Donnée autour de 16 % d'intentions, elle est également talonnée par celle du PS-Place publique, menée par Raphaël Glucksmann.\n",
    "\n",
    "Le camp présidentiel est en outre suspendu à une entrée en campagne du chef de l'Etat, dont les contours n'ont pour l'heure pas été précisés, alors que le premier ministre, Gabriel Attal, reste pour l'heure discret en la matière. Ce dernier fait le pari que la campagne ne démarrera réellement que dans la dernière ligne droite, un mois avant le scrutin du 9 juin, mais l'exécutif cible ces dernières semaines l'extrême droite, qu'il considère comme son principal adversaire dans le scrutin.\n",
    "\n",
    "Vous pouvez partager un article en cliquant sur les icônes de partage en haut à droite de celui-ci. \n",
    "La reproduction totale ou partielle d'un article, sans l'autorisation écrite et préalable du Monde, est strictement interdite. \n",
    "Pour plus d'informations, consultez nos conditions générales de vente. \n",
    "Pour toute demande d'autorisation, contactez syndication@lemonde.fr. \n",
    "En tant qu'abonné, vous pouvez offrir jusqu'à cinq articles par mois à l'un de vos proches grâce à la fonctionnalité « Offrir un article ». \n",
    "\n",
    "https://www.lemonde.fr/elections-europeennes/article/2024/04/17/elections-europeennes-emmanuel-macron-denonce-l-hypocrisie-du-rn_6228404_1168667.html\n",
    "\n",
    "Depuis Bruxelles, Emmanuel Macron a fait un premier pas dans l'offensive en vue du scrutin du 9 juin, ciblant ainsi sans le nommer le RN, et ses contradictions sur la question européenne, l'économie ou encore la diplomatie. « Ceux qui parfois il y a cinq ans disaient “la solution c'est sortir de l'euro”, ceux qui ne votent même pas la politique agricole commune mais ensuite disent à la maison aux agriculteurs “je vous défends”, ceux qui systématiquement ont essayé d'affaiblir l'Europe en quelque sorte ont les dividendes silencieux de notre propre politique proeuropéenne », a asséné Emmanuel Macron.\n",
    "\n",
    "« Ils expliquent, “nous, on va rendre notre pays plus fort”. Si leur politique avait été suivie depuis cinq ans, on ne serait pas là pour parler de la même façon de notre Europe ! », a-t-il poursuivi, avant d'ajouter : « Ils auraient soigné [le Covid-19] à l'hydroxychloroquine, pris le vaccin russe, divisé l'Europe suite à l'agression russe. Ils n'auraient pris aucune sanction [contre la Russie], l'Ukraine aurait déjà été abandonnée. Et ils auraient abandonné aussi l'ambition européenne en matière de recherche et de technologie. »\n",
    "\"\"\""
   ]
  },
  {
   "cell_type": "markdown",
   "id": "155b52b3",
   "metadata": {},
   "source": [
    "Now we will send the article to GPT, along with the `Article` formatter. that describes what we want back."
   ]
  },
  {
   "cell_type": "code",
   "execution_count": 18,
   "id": "4233221d-f5b3-496a-94e6-ff531a7f4751",
   "metadata": {},
   "outputs": [],
   "source": [
    "result = client.chat.completions.create(\n",
    "    model=\"gpt-4o\",\n",
    "    response_model=Article,\n",
    "    messages=[{\"role\": \"user\", \"content\": article}],\n",
    ")"
   ]
  },
  {
   "cell_type": "markdown",
   "id": "639096f4",
   "metadata": {},
   "source": [
    "The result was saved as `result`, which we can look at nicely by printing out `result.model_dump()`. It's kind of complicated – there are a lot of sources! – which is why we're using pretty printing."
   ]
  },
  {
   "cell_type": "code",
   "execution_count": 27,
   "id": "01df3753-2939-4350-940c-f15e3b8ca240",
   "metadata": {},
   "outputs": [
    {
     "name": "stdout",
     "output_type": "stream",
     "text": [
      "{'category': 'politics',\n",
      " 'language_code': 'fr',\n",
      " 'sources': [{'name': 'Emmanuel Macron', 'title': 'President of France'},\n",
      "             {'name': 'Jordan Bardella',\n",
      "              'title': 'Head of the RN list for the European elections'},\n",
      "             {'name': 'Valérie Heyer',\n",
      "              'title': \"Head of Macron's camp list for the European elections\"},\n",
      "             {'name': 'Gabriel Attal', 'title': 'Prime Minister of France'},\n",
      "             {'name': 'Raphaël Glucksmann',\n",
      "              'title': 'Head of the PS-Place publique list for the European '\n",
      "                       'elections'}],\n",
      " 'summary': \"Emmanuel Macron critiques the 'hypocrisy' of the National Rally \"\n",
      "            '(RN) during the European elections campaign.'}\n"
     ]
    }
   ],
   "source": [
    "from pprint import pprint\n",
    "\n",
    "pprint(result.model_dump())"
   ]
  },
  {
   "cell_type": "markdown",
   "id": "05c5fa21",
   "metadata": {},
   "source": [
    "## Instructor with a pandas dataframe\n",
    "\n",
    "You will often want to use Instructor not just with *one* element of data, but with *many*. Let's try again with a spreadsheet of content!\n",
    "\n",
    "Again, **you'll need your own OpenAI API key** to serve as your username and password when connecting Instructor to GPT. You can get yours [here](https://platform.openai.com/account/api-keys). Feel free to email me to borrow one of my API keys, you can find me at js4571@columbia.edu"
   ]
  },
  {
   "cell_type": "code",
   "execution_count": 26,
   "id": "7c141577-af20-4800-b8ed-2726c84b5ef4",
   "metadata": {},
   "outputs": [
    {
     "data": {
      "text/html": [
       "<div>\n",
       "<style scoped>\n",
       "    .dataframe tbody tr th:only-of-type {\n",
       "        vertical-align: middle;\n",
       "    }\n",
       "\n",
       "    .dataframe tbody tr th {\n",
       "        vertical-align: top;\n",
       "    }\n",
       "\n",
       "    .dataframe thead th {\n",
       "        text-align: right;\n",
       "    }\n",
       "</style>\n",
       "<table border=\"1\" class=\"dataframe\">\n",
       "  <thead>\n",
       "    <tr style=\"text-align: right;\">\n",
       "      <th></th>\n",
       "      <th>URL</th>\n",
       "      <th>content</th>\n",
       "    </tr>\n",
       "  </thead>\n",
       "  <tbody>\n",
       "    <tr>\n",
       "      <th>0</th>\n",
       "      <td>https://www.nytimes.com/2024/04/17/us/politics/senate-alejandro-mayorkas-impeachment-charge.html</td>\n",
       "      <td>Senate Dismisses Impeachment Charges Against Mayorkas Without a Trial\\n\\nDemocrats quickly swept aside the articles of impeachment accusing the homeland security secretary of refusing to enforce immigration laws and breach of public trust, calling them unconstitutional.\\n\\nThe Senate on Wednesday dismissed the impeachment case against Alejandro N. Mayorkas, the homeland security secretary, voting along party lines before his trial got underway to sweep aside two charges accusing him of faili...</td>\n",
       "    </tr>\n",
       "    <tr>\n",
       "      <th>1</th>\n",
       "      <td>https://www.washingtonpost.com/national-security/2024/04/17/niger-air-force-whistleblower/</td>\n",
       "      <td>Defying Niger exit order leaves U.S. troops vulnerable, whistleblower says\\n\\nDeployed Americans are in limbo, unable to do their jobs or go home while State Department seeks to extend military presence, complaint contends\\n\\nA senior U.S. Air Force leader deployed in Niger is raising an alarm over the Biden administration’s reluctance to heed an eviction notice from the military junta that last year overthrew the West African nation’s democratically elected government.\\n\\nThe airman, in a p...</td>\n",
       "    </tr>\n",
       "    <tr>\n",
       "      <th>2</th>\n",
       "      <td>https://www.washingtonpost.com/sports/2024/04/17/jake-irvin-nationals-dodgers-road-trip/</td>\n",
       "      <td>Jake Irvin delivers as Nationals beat Dodgers again to close road trip\\n\\nLOS ANGELES — It was only fitting that Jake Irvin’s start Wednesday afternoon at Dodger Stadium ended the way it did: with a high fastball in on the hands of Los Angeles catcher Will Smith.\\n\\nIt was the sixth pitch of the at-bat. The Washington Nationals right-hander had thrown five fastballs in a row. For his sixth pitch, he didn’t deviate from the plan: He fired a fastball by Smith, notching his sixth strikeout in t...</td>\n",
       "    </tr>\n",
       "    <tr>\n",
       "      <th>3</th>\n",
       "      <td>https://www.lanacion.com.ar/economia/ante-inversores-en-washington-caputo-defendio-la-estrategia-fiscal-y-reafirmo-el-compromiso-para-nid17042024/</td>\n",
       "      <td>Ante inversores en Washington, Caputo defendió la estrategia fiscal y reafirmó el compromiso para levantar el cepo\\n\\nEl jefe del Palacio de Hacienda participó de un seminario organizado por el banco J.P. Morgan\\n\\nWASHINGTON.- El ministro de Economía, Luis Caputo, llegó al seminario del banco de inversión J.P. Morgan en el Park Hyatt hotel poco después de las tres de la tarde, hora local, un rato después de aterrizar en Washington, junto con el secretario de Finanzas, Pablo Quirno. El títul...</td>\n",
       "    </tr>\n",
       "    <tr>\n",
       "      <th>4</th>\n",
       "      <td>https://www.lemonde.fr/elections-europeennes/article/2024/04/17/elections-europeennes-emmanuel-macron-denonce-l-hypocrisie-du-rn_6228404_1168667.html</td>\n",
       "      <td>Elections européennes : Emmanuel Macron dénonce « l’hypocrisie » du RN\\n\\nLe chef de l’Etat a déploré mercredi depuis Bruxelles que les « peurs profitent aux réponses les plus simplistes » dans la campagne pour le scrutin du 9 juin, fustigeant ceux qui dénoncent l’Union européenne tout en engrangeant les « dividendes silencieux ».\\n\\nVous pouvez partager un article en cliquant sur les icônes de partage en haut à droite de celui-ci. \\nLa reproduction totale ou partielle d’un article, sans l’a...</td>\n",
       "    </tr>\n",
       "  </tbody>\n",
       "</table>\n",
       "</div>"
      ],
      "text/plain": [
       "                                                                                                                                                     URL  \\\n",
       "0                                                       https://www.nytimes.com/2024/04/17/us/politics/senate-alejandro-mayorkas-impeachment-charge.html   \n",
       "1                                                             https://www.washingtonpost.com/national-security/2024/04/17/niger-air-force-whistleblower/   \n",
       "2                                                               https://www.washingtonpost.com/sports/2024/04/17/jake-irvin-nationals-dodgers-road-trip/   \n",
       "3     https://www.lanacion.com.ar/economia/ante-inversores-en-washington-caputo-defendio-la-estrategia-fiscal-y-reafirmo-el-compromiso-para-nid17042024/   \n",
       "4  https://www.lemonde.fr/elections-europeennes/article/2024/04/17/elections-europeennes-emmanuel-macron-denonce-l-hypocrisie-du-rn_6228404_1168667.html   \n",
       "\n",
       "                                                                                                                                                                                                                                                                                                                                                                                                                                                                                                               content  \n",
       "0  Senate Dismisses Impeachment Charges Against Mayorkas Without a Trial\\n\\nDemocrats quickly swept aside the articles of impeachment accusing the homeland security secretary of refusing to enforce immigration laws and breach of public trust, calling them unconstitutional.\\n\\nThe Senate on Wednesday dismissed the impeachment case against Alejandro N. Mayorkas, the homeland security secretary, voting along party lines before his trial got underway to sweep aside two charges accusing him of faili...  \n",
       "1  Defying Niger exit order leaves U.S. troops vulnerable, whistleblower says\\n\\nDeployed Americans are in limbo, unable to do their jobs or go home while State Department seeks to extend military presence, complaint contends\\n\\nA senior U.S. Air Force leader deployed in Niger is raising an alarm over the Biden administration’s reluctance to heed an eviction notice from the military junta that last year overthrew the West African nation’s democratically elected government.\\n\\nThe airman, in a p...  \n",
       "2  Jake Irvin delivers as Nationals beat Dodgers again to close road trip\\n\\nLOS ANGELES — It was only fitting that Jake Irvin’s start Wednesday afternoon at Dodger Stadium ended the way it did: with a high fastball in on the hands of Los Angeles catcher Will Smith.\\n\\nIt was the sixth pitch of the at-bat. The Washington Nationals right-hander had thrown five fastballs in a row. For his sixth pitch, he didn’t deviate from the plan: He fired a fastball by Smith, notching his sixth strikeout in t...  \n",
       "3  Ante inversores en Washington, Caputo defendió la estrategia fiscal y reafirmó el compromiso para levantar el cepo\\n\\nEl jefe del Palacio de Hacienda participó de un seminario organizado por el banco J.P. Morgan\\n\\nWASHINGTON.- El ministro de Economía, Luis Caputo, llegó al seminario del banco de inversión J.P. Morgan en el Park Hyatt hotel poco después de las tres de la tarde, hora local, un rato después de aterrizar en Washington, junto con el secretario de Finanzas, Pablo Quirno. El títul...  \n",
       "4  Elections européennes : Emmanuel Macron dénonce « l’hypocrisie » du RN\\n\\nLe chef de l’Etat a déploré mercredi depuis Bruxelles que les « peurs profitent aux réponses les plus simplistes » dans la campagne pour le scrutin du 9 juin, fustigeant ceux qui dénoncent l’Union européenne tout en engrangeant les « dividendes silencieux ».\\n\\nVous pouvez partager un article en cliquant sur les icônes de partage en haut à droite de celui-ci. \\nLa reproduction totale ou partielle d’un article, sans l’a...  "
      ]
     },
     "execution_count": 26,
     "metadata": {},
     "output_type": "execute_result"
    }
   ],
   "source": [
    "import pandas as pd\n",
    "pd.options.display.max_colwidth = 500\n",
    "\n",
    "df = pd.read_csv(\"https://docs.google.com/spreadsheets/d/e/2PACX-1vQlfNIJOmGYG1vK1RkI5sa2R3_0fZohl7FIPwVN6HenlY-RZzzuIAiZ3E2GLITI6bANbYT7Wm1Lk_UA/pub?gid=228719919&single=true&output=csv\")\n",
    "df.head()"
   ]
  },
  {
   "cell_type": "markdown",
   "id": "4a34ed02",
   "metadata": {},
   "source": [
    "Before we get started I'm going to turn on tqdm, which gives us a nice progress bar as we go through each row. If we didn't have a progress bar we'd never know how much longer we had to wait!"
   ]
  },
  {
   "cell_type": "code",
   "execution_count": 1,
   "id": "c4ea0035-b7b2-4eea-b9cc-69f00e4ca6c9",
   "metadata": {},
   "outputs": [],
   "source": [
    "from tqdm import tqdm\n",
    "tqdm.pandas()"
   ]
  },
  {
   "cell_type": "markdown",
   "id": "201f4c22-050b-47d5-bb74-4b863c814b02",
   "metadata": {},
   "source": [
    "The `process` function takes the `content` column, then sends it to GPT to get a response. You can find a list of available models on [OpenAI's website](https://platform.openai.com/docs/models), but `gpt-4o` is a good combination of quality and price."
   ]
  },
  {
   "cell_type": "code",
   "execution_count": 34,
   "id": "66b1986c",
   "metadata": {},
   "outputs": [
    {
     "name": "stderr",
     "output_type": "stream",
     "text": [
      "100%|██████████| 6/6 [00:54<00:00,  9.04s/it]\n"
     ]
    },
    {
     "data": {
      "text/html": [
       "<div>\n",
       "<style scoped>\n",
       "    .dataframe tbody tr th:only-of-type {\n",
       "        vertical-align: middle;\n",
       "    }\n",
       "\n",
       "    .dataframe tbody tr th {\n",
       "        vertical-align: top;\n",
       "    }\n",
       "\n",
       "    .dataframe thead th {\n",
       "        text-align: right;\n",
       "    }\n",
       "</style>\n",
       "<table border=\"1\" class=\"dataframe\">\n",
       "  <thead>\n",
       "    <tr style=\"text-align: right;\">\n",
       "      <th></th>\n",
       "      <th>summary</th>\n",
       "      <th>sources</th>\n",
       "      <th>language_code</th>\n",
       "      <th>category</th>\n",
       "    </tr>\n",
       "  </thead>\n",
       "  <tbody>\n",
       "    <tr>\n",
       "      <th>0</th>\n",
       "      <td>The Senate dismissed impeachment charges against Homeland Security Secretary Alejandro N. Mayorkas before trial, ruling the charges unconstitutional, with votes largely along party lines.</td>\n",
       "      <td>[{'name': 'Alejandro N. Mayorkas', 'title': 'Homeland Security Secretary'}, {'name': 'Chuck Schumer', 'title': 'Senator, Majority Leader'}, {'name': 'Lisa Murkowski', 'title': 'Senator'}, {'name': 'Mitch McConnell', 'title': 'Senator, Minority Leader'}, {'name': 'Mike Lee', 'title': 'Senator'}, {'name': 'John Thune', 'title': 'Senator'}, {'name': 'Mia Ehrenberg', 'title': 'Spokeswoman for the Department of Homeland Security'}]</td>\n",
       "      <td>en</td>\n",
       "      <td>politics</td>\n",
       "    </tr>\n",
       "    <tr>\n",
       "      <th>1</th>\n",
       "      <td>A senior U.S. Air Force leader in Niger has filed a whistleblower complaint accusing U.S. embassy officials of suppressing intelligence to maintain the appearance of a good relationship with Niger's junta, leaving U.S. troops vulnerable and unable to do their jobs or go home.</td>\n",
       "      <td>[{'name': 'Kathleen FitzGibbon', 'title': 'Ambassador'}, {'name': 'Nora J. Nelson-Richter', 'title': 'Air Force Col. and Defense Attaché'}, {'name': 'Dusty Johnson', 'title': 'Rep. (R-S.D.)'}]</td>\n",
       "      <td>en</td>\n",
       "      <td>politics</td>\n",
       "    </tr>\n",
       "    <tr>\n",
       "      <th>2</th>\n",
       "      <td>Jake Irvin's impressive performance leads Nationals to a 2-0 victory over the Dodgers, concluding their road trip with a series win.</td>\n",
       "      <td>[{'name': 'Jake Irvin', 'title': 'Washington Nationals right-hander'}, {'name': 'Luis García Jr.', 'title': 'second baseman'}, {'name': 'Dave Martinez', 'title': 'Manager'}]</td>\n",
       "      <td>en</td>\n",
       "      <td>sports</td>\n",
       "    </tr>\n",
       "    <tr>\n",
       "      <th>3</th>\n",
       "      <td>Luis Caputo defendió la estrategia fiscal y reafirmó el compromiso para levantar el cepo ante inversores en Washington, destacando los avances económicos del gobierno de Javier Milei.</td>\n",
       "      <td>[{'name': 'Luis Caputo', 'title': 'Ministro de Economía'}, {'name': 'Pablo Quirno', 'title': 'Secretario de Finanzas'}, {'name': 'Nicolás Posse', 'title': 'Jefe de Gabinete'}, {'name': 'Pierre-Olivier Gourinchas', 'title': 'Economista jefe del FMI'}]</td>\n",
       "      <td>es</td>\n",
       "      <td>politics</td>\n",
       "    </tr>\n",
       "    <tr>\n",
       "      <th>4</th>\n",
       "      <td>French President Emmanuel Macron criticizes the National Rally's (RN) \"hypocrisy\" in the European elections campaign, denouncing their anti-EU stance while benefiting from EU policies.</td>\n",
       "      <td>[{'name': 'Emmanuel Macron', 'title': 'President of France'}, {'name': 'Jordan Bardella', 'title': 'Head of the National Rally's list in the European elections'}, {'name': 'Valérie Heyer', 'title': 'Head of Macron's camp list in the European elections'}, {'name': 'Gabriel Attal', 'title': 'Prime Minister of France'}, {'name': 'Raphaël Glucksmann', 'title': 'Head of the PS-Place publique list'}]</td>\n",
       "      <td>fr</td>\n",
       "      <td>politics</td>\n",
       "    </tr>\n",
       "  </tbody>\n",
       "</table>\n",
       "</div>"
      ],
      "text/plain": [
       "                                                                                                                                                                                                                                                                                summary  \\\n",
       "0                                                                                           The Senate dismissed impeachment charges against Homeland Security Secretary Alejandro N. Mayorkas before trial, ruling the charges unconstitutional, with votes largely along party lines.   \n",
       "1  A senior U.S. Air Force leader in Niger has filed a whistleblower complaint accusing U.S. embassy officials of suppressing intelligence to maintain the appearance of a good relationship with Niger's junta, leaving U.S. troops vulnerable and unable to do their jobs or go home.   \n",
       "2                                                                                                                                                  Jake Irvin's impressive performance leads Nationals to a 2-0 victory over the Dodgers, concluding their road trip with a series win.   \n",
       "3                                                                                               Luis Caputo defendió la estrategia fiscal y reafirmó el compromiso para levantar el cepo ante inversores en Washington, destacando los avances económicos del gobierno de Javier Milei.   \n",
       "4                                                                                              French President Emmanuel Macron criticizes the National Rally's (RN) \"hypocrisy\" in the European elections campaign, denouncing their anti-EU stance while benefiting from EU policies.   \n",
       "\n",
       "                                                                                                                                                                                                                                                                                                                                                                                                                                          sources  \\\n",
       "0  [{'name': 'Alejandro N. Mayorkas', 'title': 'Homeland Security Secretary'}, {'name': 'Chuck Schumer', 'title': 'Senator, Majority Leader'}, {'name': 'Lisa Murkowski', 'title': 'Senator'}, {'name': 'Mitch McConnell', 'title': 'Senator, Minority Leader'}, {'name': 'Mike Lee', 'title': 'Senator'}, {'name': 'John Thune', 'title': 'Senator'}, {'name': 'Mia Ehrenberg', 'title': 'Spokeswoman for the Department of Homeland Security'}]   \n",
       "1                                                                                                                                                                                                                                                [{'name': 'Kathleen FitzGibbon', 'title': 'Ambassador'}, {'name': 'Nora J. Nelson-Richter', 'title': 'Air Force Col. and Defense Attaché'}, {'name': 'Dusty Johnson', 'title': 'Rep. (R-S.D.)'}]   \n",
       "2                                                                                                                                                                                                                                                                   [{'name': 'Jake Irvin', 'title': 'Washington Nationals right-hander'}, {'name': 'Luis García Jr.', 'title': 'second baseman'}, {'name': 'Dave Martinez', 'title': 'Manager'}]   \n",
       "3                                                                                                                                                                                      [{'name': 'Luis Caputo', 'title': 'Ministro de Economía'}, {'name': 'Pablo Quirno', 'title': 'Secretario de Finanzas'}, {'name': 'Nicolás Posse', 'title': 'Jefe de Gabinete'}, {'name': 'Pierre-Olivier Gourinchas', 'title': 'Economista jefe del FMI'}]   \n",
       "4                                   [{'name': 'Emmanuel Macron', 'title': 'President of France'}, {'name': 'Jordan Bardella', 'title': 'Head of the National Rally's list in the European elections'}, {'name': 'Valérie Heyer', 'title': 'Head of Macron's camp list in the European elections'}, {'name': 'Gabriel Attal', 'title': 'Prime Minister of France'}, {'name': 'Raphaël Glucksmann', 'title': 'Head of the PS-Place publique list'}]   \n",
       "\n",
       "  language_code  category  \n",
       "0            en  politics  \n",
       "1            en  politics  \n",
       "2            en    sports  \n",
       "3            es  politics  \n",
       "4            fr  politics  "
      ]
     },
     "execution_count": 34,
     "metadata": {},
     "output_type": "execute_result"
    }
   ],
   "source": [
    "def process(row):\n",
    "    article = row['content']\n",
    "\n",
    "    result = client.chat.completions.create(\n",
    "        model=\"gpt-4o\",\n",
    "        response_model=Article,\n",
    "        messages=[{\"role\": \"user\", \"content\": article}],\n",
    "    )\n",
    "\n",
    "    # Convert the dictionary into a pandas series\n",
    "    return pd.Series(result.model_dump())\n",
    "\n",
    "# Run process for every row in the dataframe\n",
    "ai_df = df.progress_apply(process, axis=1)\n",
    "ai_df.head()"
   ]
  },
  {
   "cell_type": "markdown",
   "id": "d3853921-a169-4dfe-8628-f69ef15157b5",
   "metadata": {},
   "source": [
    "Now we can combine the AI results with the original dataframe and save it to a CSV file."
   ]
  },
  {
   "cell_type": "code",
   "execution_count": 37,
   "id": "158dc80f",
   "metadata": {},
   "outputs": [
    {
     "data": {
      "text/html": [
       "<div>\n",
       "<style scoped>\n",
       "    .dataframe tbody tr th:only-of-type {\n",
       "        vertical-align: middle;\n",
       "    }\n",
       "\n",
       "    .dataframe tbody tr th {\n",
       "        vertical-align: top;\n",
       "    }\n",
       "\n",
       "    .dataframe thead th {\n",
       "        text-align: right;\n",
       "    }\n",
       "</style>\n",
       "<table border=\"1\" class=\"dataframe\">\n",
       "  <thead>\n",
       "    <tr style=\"text-align: right;\">\n",
       "      <th></th>\n",
       "      <th>URL</th>\n",
       "      <th>content</th>\n",
       "      <th>summary</th>\n",
       "      <th>sources</th>\n",
       "      <th>language_code</th>\n",
       "      <th>category</th>\n",
       "    </tr>\n",
       "  </thead>\n",
       "  <tbody>\n",
       "    <tr>\n",
       "      <th>0</th>\n",
       "      <td>https://www.nytimes.com/2024/04/17/us/politics/senate-alejandro-mayorkas-impeachment-charge.html</td>\n",
       "      <td>Senate Dismisses Impeachment Charges Against Mayorkas Without a Trial\\n\\nDemocrats quickly swept...</td>\n",
       "      <td>The Senate dismissed impeachment charges against Homeland Security Secretary Alejandro N. Mayork...</td>\n",
       "      <td>[{'name': 'Alejandro N. Mayorkas', 'title': 'Homeland Security Secretary'}, {'name': 'Chuck Schu...</td>\n",
       "      <td>en</td>\n",
       "      <td>politics</td>\n",
       "    </tr>\n",
       "    <tr>\n",
       "      <th>1</th>\n",
       "      <td>https://www.washingtonpost.com/national-security/2024/04/17/niger-air-force-whistleblower/</td>\n",
       "      <td>Defying Niger exit order leaves U.S. troops vulnerable, whistleblower says\\n\\nDeployed Americans...</td>\n",
       "      <td>A senior U.S. Air Force leader in Niger has filed a whistleblower complaint accusing U.S. embass...</td>\n",
       "      <td>[{'name': 'Kathleen FitzGibbon', 'title': 'Ambassador'}, {'name': 'Nora J. Nelson-Richter', 'tit...</td>\n",
       "      <td>en</td>\n",
       "      <td>politics</td>\n",
       "    </tr>\n",
       "    <tr>\n",
       "      <th>2</th>\n",
       "      <td>https://www.washingtonpost.com/sports/2024/04/17/jake-irvin-nationals-dodgers-road-trip/</td>\n",
       "      <td>Jake Irvin delivers as Nationals beat Dodgers again to close road trip\\n\\nLOS ANGELES — It was o...</td>\n",
       "      <td>Jake Irvin's impressive performance leads Nationals to a 2-0 victory over the Dodgers, concludin...</td>\n",
       "      <td>[{'name': 'Jake Irvin', 'title': 'Washington Nationals right-hander'}, {'name': 'Luis García Jr....</td>\n",
       "      <td>en</td>\n",
       "      <td>sports</td>\n",
       "    </tr>\n",
       "    <tr>\n",
       "      <th>3</th>\n",
       "      <td>https://www.lanacion.com.ar/economia/ante-inversores-en-washington-caputo-defendio-la-estrategia...</td>\n",
       "      <td>Ante inversores en Washington, Caputo defendió la estrategia fiscal y reafirmó el compromiso par...</td>\n",
       "      <td>Luis Caputo defendió la estrategia fiscal y reafirmó el compromiso para levantar el cepo ante in...</td>\n",
       "      <td>[{'name': 'Luis Caputo', 'title': 'Ministro de Economía'}, {'name': 'Pablo Quirno', 'title': 'Se...</td>\n",
       "      <td>es</td>\n",
       "      <td>politics</td>\n",
       "    </tr>\n",
       "    <tr>\n",
       "      <th>4</th>\n",
       "      <td>https://www.lemonde.fr/elections-europeennes/article/2024/04/17/elections-europeennes-emmanuel-m...</td>\n",
       "      <td>Elections européennes : Emmanuel Macron dénonce « l’hypocrisie » du RN\\n\\nLe chef de l’Etat a dé...</td>\n",
       "      <td>French President Emmanuel Macron criticizes the National Rally's (RN) \"hypocrisy\" in the Europea...</td>\n",
       "      <td>[{'name': 'Emmanuel Macron', 'title': 'President of France'}, {'name': 'Jordan Bardella', 'title...</td>\n",
       "      <td>fr</td>\n",
       "      <td>politics</td>\n",
       "    </tr>\n",
       "  </tbody>\n",
       "</table>\n",
       "</div>"
      ],
      "text/plain": [
       "                                                                                                   URL  \\\n",
       "0     https://www.nytimes.com/2024/04/17/us/politics/senate-alejandro-mayorkas-impeachment-charge.html   \n",
       "1           https://www.washingtonpost.com/national-security/2024/04/17/niger-air-force-whistleblower/   \n",
       "2             https://www.washingtonpost.com/sports/2024/04/17/jake-irvin-nationals-dodgers-road-trip/   \n",
       "3  https://www.lanacion.com.ar/economia/ante-inversores-en-washington-caputo-defendio-la-estrategia...   \n",
       "4  https://www.lemonde.fr/elections-europeennes/article/2024/04/17/elections-europeennes-emmanuel-m...   \n",
       "\n",
       "                                                                                               content  \\\n",
       "0  Senate Dismisses Impeachment Charges Against Mayorkas Without a Trial\\n\\nDemocrats quickly swept...   \n",
       "1  Defying Niger exit order leaves U.S. troops vulnerable, whistleblower says\\n\\nDeployed Americans...   \n",
       "2  Jake Irvin delivers as Nationals beat Dodgers again to close road trip\\n\\nLOS ANGELES — It was o...   \n",
       "3  Ante inversores en Washington, Caputo defendió la estrategia fiscal y reafirmó el compromiso par...   \n",
       "4  Elections européennes : Emmanuel Macron dénonce « l’hypocrisie » du RN\\n\\nLe chef de l’Etat a dé...   \n",
       "\n",
       "                                                                                               summary  \\\n",
       "0  The Senate dismissed impeachment charges against Homeland Security Secretary Alejandro N. Mayork...   \n",
       "1  A senior U.S. Air Force leader in Niger has filed a whistleblower complaint accusing U.S. embass...   \n",
       "2  Jake Irvin's impressive performance leads Nationals to a 2-0 victory over the Dodgers, concludin...   \n",
       "3  Luis Caputo defendió la estrategia fiscal y reafirmó el compromiso para levantar el cepo ante in...   \n",
       "4  French President Emmanuel Macron criticizes the National Rally's (RN) \"hypocrisy\" in the Europea...   \n",
       "\n",
       "                                                                                               sources  \\\n",
       "0  [{'name': 'Alejandro N. Mayorkas', 'title': 'Homeland Security Secretary'}, {'name': 'Chuck Schu...   \n",
       "1  [{'name': 'Kathleen FitzGibbon', 'title': 'Ambassador'}, {'name': 'Nora J. Nelson-Richter', 'tit...   \n",
       "2  [{'name': 'Jake Irvin', 'title': 'Washington Nationals right-hander'}, {'name': 'Luis García Jr....   \n",
       "3  [{'name': 'Luis Caputo', 'title': 'Ministro de Economía'}, {'name': 'Pablo Quirno', 'title': 'Se...   \n",
       "4  [{'name': 'Emmanuel Macron', 'title': 'President of France'}, {'name': 'Jordan Bardella', 'title...   \n",
       "\n",
       "  language_code  category  \n",
       "0            en  politics  \n",
       "1            en  politics  \n",
       "2            en    sports  \n",
       "3            es  politics  \n",
       "4            fr  politics  "
      ]
     },
     "execution_count": 37,
     "metadata": {},
     "output_type": "execute_result"
    }
   ],
   "source": [
    "merged = df.join(ai_df)\n",
    "merged.head()"
   ]
  },
  {
   "cell_type": "markdown",
   "id": "000b9df9",
   "metadata": {},
   "source": [
    "Beautiful, right??"
   ]
  },
  {
   "cell_type": "code",
   "execution_count": 38,
   "id": "bd01eb83",
   "metadata": {},
   "outputs": [],
   "source": [
    "merged.to_csv(\"completed.csv\", index=False)"
   ]
  },
  {
   "cell_type": "markdown",
   "id": "d2995e85-1f0e-4e0b-b1a6-7f3c12b929e2",
   "metadata": {},
   "source": [
    "## Validating responses from the LLM\n",
    "\n",
    "One fun part of Instructor is **validating responses**, to be able to do follow-up questions with GPT to make sure the responses are correct.\n",
    "\n",
    "The approach below makes sure emails have an `@` symbol in them."
   ]
  },
  {
   "cell_type": "code",
   "execution_count": 7,
   "id": "9f3138ba-e340-49e5-b6b4-405b005bdd48",
   "metadata": {},
   "outputs": [],
   "source": [
    "import instructor\n",
    "from pydantic import BaseModel, Field, field_validator\n",
    "from openai import OpenAI\n",
    "from typing import Optional, List\n",
    "from typing_extensions import Literal\n",
    "\n",
    "class Comment(BaseModel):\n",
    "    name: str = Field(description=\"Submitter name\")\n",
    "    email: str = Field(description=\"Submitter email address\")\n",
    "    position: Literal[\"for\", \"against\", \"neutral\"] = Field(\"Position on the regulation\")\n",
    "\n",
    "    @field_validator(\"email\")\n",
    "    @classmethod\n",
    "    def validate_email(cls, value):\n",
    "        if value and '@' not in value:\n",
    "            raise ValueError(\"Email missing @\")\n",
    "        return value\n",
    "\n",
    "# Add your own API key\n",
    "client = instructor.from_openai(OpenAI(api_key='sk-proj-XXXXXXXXXXXXXXXXXXXX'))"
   ]
  },
  {
   "cell_type": "markdown",
   "id": "1759bcb6",
   "metadata": {},
   "source": [
    "In the example below, Mulberry is hiding his email address by using `(at)` and `(dot)`. While GPT will usually correctly translate it into `mulberry@catmail.com`, we can be *super certain* by demanding that all email addresses have an `@` in them."
   ]
  },
  {
   "cell_type": "code",
   "execution_count": 8,
   "id": "80f4143b-cbfd-45de-90bf-1003495f2c09",
   "metadata": {},
   "outputs": [],
   "source": [
    "comment = \"\"\"\n",
    "My name is Mulberry Pepperstown and I think this regulation is awful!\n",
    "You can respond to this at mulberry (at) catmail (dot) com\n",
    "\"\"\"\n",
    "\n",
    "result = client.chat.completions.create(\n",
    "    model=\"gpt-4o\",\n",
    "    response_model=Comment,\n",
    "    messages=[{\"role\": \"user\", \"content\": comment}],\n",
    "    max_retries=3\n",
    ")"
   ]
  },
  {
   "cell_type": "markdown",
   "id": "37750c79",
   "metadata": {},
   "source": [
    "We set a maximum number of retries to allow a back-and-forth conversation with the LLM up to 3 times. And the final answer is... perfect!"
   ]
  },
  {
   "cell_type": "code",
   "execution_count": 9,
   "id": "51aa6dab-3c0b-42c0-87e9-aefbdfbe933f",
   "metadata": {},
   "outputs": [
    {
     "data": {
      "text/plain": [
       "{'name': 'Mulberry Pepperstown',\n",
       " 'email': 'mulberry@catmail.com',\n",
       " 'position': 'against'}"
      ]
     },
     "execution_count": 9,
     "metadata": {},
     "output_type": "execute_result"
    }
   ],
   "source": [
    "result.model_dump()"
   ]
  },
  {
   "cell_type": "code",
   "execution_count": null,
   "id": "e03a12cd-e20c-4cf4-b9eb-82d74ee885bd",
   "metadata": {},
   "outputs": [],
   "source": []
  }
 ],
 "metadata": {
  "kernelspec": {
   "display_name": "Python 3 (ipykernel)",
   "language": "python",
   "name": "python3"
  },
  "language_info": {
   "codemirror_mode": {
    "name": "ipython",
    "version": 3
   },
   "file_extension": ".py",
   "mimetype": "text/x-python",
   "name": "python",
   "nbconvert_exporter": "python",
   "pygments_lexer": "ipython3",
   "version": "3.10.13"
  }
 },
 "nbformat": 4,
 "nbformat_minor": 5
}
